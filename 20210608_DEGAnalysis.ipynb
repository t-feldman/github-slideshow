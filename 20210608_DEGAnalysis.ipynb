{
  "nbformat": 4,
  "nbformat_minor": 0,
  "metadata": {
    "colab": {
      "name": "Untitled3.ipynb",
      "provenance": [],
      "authorship_tag": "ABX9TyP15jeV3q5frhBs94sbsPyk",
      "include_colab_link": true
    },
    "kernelspec": {
      "name": "python3",
      "display_name": "Python 3"
    },
    "language_info": {
      "name": "python"
    }
  },
  "cells": [
    {
      "cell_type": "markdown",
      "metadata": {
        "id": "view-in-github",
        "colab_type": "text"
      },
      "source": [
        "<a href=\"https://colab.research.google.com/github/t-feldman/github-slideshow/blob/main/20210608_DEGAnalysis.ipynb\" target=\"_parent\"><img src=\"https://colab.research.google.com/assets/colab-badge.svg\" alt=\"Open In Colab\"/></a>"
      ]
    },
    {
      "cell_type": "markdown",
      "metadata": {
        "id": "DV_Rg59lhwe2"
      },
      "source": [
        "# Introduction - 20210608 - Infected/Exposed\n",
        "The purpose of this notebook is to visualize differentially expressed genes from each cell type and find the overlaps between cell types. It will also be used to attach gene metadata to each table and run enrichment analysis."
      ]
    },
    {
      "cell_type": "markdown",
      "metadata": {
        "id": "0N0KaAD8xy13"
      },
      "source": [
        "## Set up\n",
        "This section installs and load packages and mounts the Google drive"
      ]
    },
    {
      "cell_type": "code",
      "metadata": {
        "id": "X4mM4rBXhliV"
      },
      "source": [
        "## Package for retrieving gene annotations\n",
        "!pip install pybiomart\n",
        "!pip install gseapy"
      ],
      "execution_count": null,
      "outputs": []
    },
    {
      "cell_type": "code",
      "metadata": {
        "colab": {
          "base_uri": "https://localhost:8080/"
        },
        "id": "tnwjJH_aiX_9",
        "outputId": "2be4aafe-149e-4ae3-8066-6575c4d510ce"
      },
      "source": [
        "## Mount Google Drive for file access\n",
        "from google.colab import drive\n",
        "drive.mount('/content/drive')"
      ],
      "execution_count": null,
      "outputs": [
        {
          "output_type": "stream",
          "text": [
            "Mounted at /content/drive\n"
          ],
          "name": "stdout"
        }
      ]
    },
    {
      "cell_type": "code",
      "metadata": {
        "colab": {
          "base_uri": "https://localhost:8080/"
        },
        "id": "uGgvheA6jZ2D",
        "outputId": "a036372f-b855-466c-ae82-e164ec9b26ba"
      },
      "source": [
        "## Load packages\n",
        "import pandas as pd\n",
        "import numpy as np\n",
        "import matplotlib.pyplot as plt\n",
        "import seaborn as sns\n",
        "import io\n",
        "from pybiomart import Server\n",
        "from pybiomart import Dataset\n",
        "import scipy.spatial as sp, scipy.cluster.hierarchy as hc\n",
        "import matplotlib.patches as mpatches\n",
        "import gseapy as gp"
      ],
      "execution_count": null,
      "outputs": [
        {
          "output_type": "stream",
          "text": [
            "Creating directory /root/.config/bioservices \n"
          ],
          "name": "stdout"
        }
      ]
    },
    {
      "cell_type": "markdown",
      "metadata": {
        "id": "4pCpYyPNjSCI"
      },
      "source": [
        "## Retrieve annotations"
      ]
    },
    {
      "cell_type": "code",
      "metadata": {
        "colab": {
          "base_uri": "https://localhost:8080/",
          "height": 238
        },
        "id": "rK30hKb4j2Za",
        "outputId": "2c10cc36-a12e-4093-ac09-6775a15a3ecf"
      },
      "source": [
        "## Connect to biomart and pull desired attributes from human database using query\n",
        "dataset = Dataset(name='hsapiens_gene_ensembl',\n",
        "                  host='http://asia.ensembl.org')\n",
        "dataset.attributes\n",
        "df_annotations = (dataset.query(attributes=['ensembl_gene_id', 'external_gene_name','description','gene_biotype']))\n",
        "df_annotations = df_annotations.set_index(\"Gene stable ID\")\n",
        "df_annotations.head()"
      ],
      "execution_count": null,
      "outputs": [
        {
          "output_type": "execute_result",
          "data": {
            "text/html": [
              "<div>\n",
              "<style scoped>\n",
              "    .dataframe tbody tr th:only-of-type {\n",
              "        vertical-align: middle;\n",
              "    }\n",
              "\n",
              "    .dataframe tbody tr th {\n",
              "        vertical-align: top;\n",
              "    }\n",
              "\n",
              "    .dataframe thead th {\n",
              "        text-align: right;\n",
              "    }\n",
              "</style>\n",
              "<table border=\"1\" class=\"dataframe\">\n",
              "  <thead>\n",
              "    <tr style=\"text-align: right;\">\n",
              "      <th></th>\n",
              "      <th>Gene name</th>\n",
              "      <th>Gene description</th>\n",
              "      <th>Gene type</th>\n",
              "    </tr>\n",
              "    <tr>\n",
              "      <th>Gene stable ID</th>\n",
              "      <th></th>\n",
              "      <th></th>\n",
              "      <th></th>\n",
              "    </tr>\n",
              "  </thead>\n",
              "  <tbody>\n",
              "    <tr>\n",
              "      <th>ENSG00000210049</th>\n",
              "      <td>MT-TF</td>\n",
              "      <td>mitochondrially encoded tRNA-Phe (UUU/C) [Sour...</td>\n",
              "      <td>Mt_tRNA</td>\n",
              "    </tr>\n",
              "    <tr>\n",
              "      <th>ENSG00000211459</th>\n",
              "      <td>MT-RNR1</td>\n",
              "      <td>mitochondrially encoded 12S rRNA [Source:HGNC ...</td>\n",
              "      <td>Mt_rRNA</td>\n",
              "    </tr>\n",
              "    <tr>\n",
              "      <th>ENSG00000210077</th>\n",
              "      <td>MT-TV</td>\n",
              "      <td>mitochondrially encoded tRNA-Val (GUN) [Source...</td>\n",
              "      <td>Mt_tRNA</td>\n",
              "    </tr>\n",
              "    <tr>\n",
              "      <th>ENSG00000210082</th>\n",
              "      <td>MT-RNR2</td>\n",
              "      <td>mitochondrially encoded 16S rRNA [Source:HGNC ...</td>\n",
              "      <td>Mt_rRNA</td>\n",
              "    </tr>\n",
              "    <tr>\n",
              "      <th>ENSG00000209082</th>\n",
              "      <td>MT-TL1</td>\n",
              "      <td>mitochondrially encoded tRNA-Leu (UUA/G) 1 [So...</td>\n",
              "      <td>Mt_tRNA</td>\n",
              "    </tr>\n",
              "  </tbody>\n",
              "</table>\n",
              "</div>"
            ],
            "text/plain": [
              "                Gene name  ... Gene type\n",
              "Gene stable ID             ...          \n",
              "ENSG00000210049     MT-TF  ...   Mt_tRNA\n",
              "ENSG00000211459   MT-RNR1  ...   Mt_rRNA\n",
              "ENSG00000210077     MT-TV  ...   Mt_tRNA\n",
              "ENSG00000210082   MT-RNR2  ...   Mt_rRNA\n",
              "ENSG00000209082    MT-TL1  ...   Mt_tRNA\n",
              "\n",
              "[5 rows x 3 columns]"
            ]
          },
          "metadata": {
            "tags": []
          },
          "execution_count": 4
        }
      ]
    },
    {
      "cell_type": "markdown",
      "metadata": {
        "id": "tb-TmQgSlrwM"
      },
      "source": [
        "## Upload datasets\n",
        "Upload DEG lists for each cell type"
      ]
    },
    {
      "cell_type": "code",
      "metadata": {
        "id": "LeAh91hOkZC1"
      },
      "source": [
        "## Read csv files of count data of choice. Store as dictionary for ease.\n",
        "def csv_to_dict(current_dict, pre_filepath, suf_filepath,celltypes,cell_label):\n",
        "  for cell in celltypes:\n",
        "    if cell_label: # if file name has cell type as a prefix\n",
        "      current_path = prefix_filepath + \"/\" + cell + \"/\" + cell + suffix_filepath\n",
        "    else:\n",
        "      current_path = pre_filepath + \"/\" + cell + \"/\"+ suf_filepath #construct filepath\n",
        "    current_df = pd.read_csv(current_path, index_col=0) #read data\n",
        "    current_df.index.name = 'Gene stable ID'\n",
        "    current_dict[cell] = current_df #store data as value in key cell\n",
        "  return current_dict\n",
        "## may consider making some version that will read in multiple csv files \n",
        "## and store as nested dictionary"
      ],
      "execution_count": null,
      "outputs": []
    },
    {
      "cell_type": "code",
      "metadata": {
        "colab": {
          "base_uri": "https://localhost:8080/",
          "height": 258
        },
        "id": "R6fC40OtuCwv",
        "outputId": "9ac9b20c-a97a-4179-b316-d233db9b5caa"
      },
      "source": [
        "## Read csv files of DEGs to dataframe for each cell type. Store as dictionary for ease.\n",
        "celltype_list = ['ProE','BasE','PolyE','OrthoE']\n",
        "DEG_dict = {}\n",
        "rlog_dict = {}\n",
        "prefix_filepath = '/content/drive/Shareddrives/Egan Lab/Tamar/20210607_RNASeq_Analysis'\n",
        "suffix_filepath = 'Infected(GFP+)vsExposed(GFP-)_WaldTest.csv'\n",
        "DEG_dict = csv_to_dict(DEG_dict, prefix_filepath,suffix_filepath,celltype_list,False)\n",
        "## Read csv files of rlog transformed counts for each cell type.\n",
        "rlog_dict = {}\n",
        "suffix_filepath = '_RlogCountsWald.csv'\n",
        "rlog_dict = csv_to_dict(rlog_dict,prefix_filepath,suffix_filepath,celltype_list,True)\n",
        "rlog_dict['OrthoE'].head()"
      ],
      "execution_count": null,
      "outputs": [
        {
          "output_type": "execute_result",
          "data": {
            "text/html": [
              "<div>\n",
              "<style scoped>\n",
              "    .dataframe tbody tr th:only-of-type {\n",
              "        vertical-align: middle;\n",
              "    }\n",
              "\n",
              "    .dataframe tbody tr th {\n",
              "        vertical-align: top;\n",
              "    }\n",
              "\n",
              "    .dataframe thead th {\n",
              "        text-align: right;\n",
              "    }\n",
              "</style>\n",
              "<table border=\"1\" class=\"dataframe\">\n",
              "  <thead>\n",
              "    <tr style=\"text-align: right;\">\n",
              "      <th></th>\n",
              "      <th>Exposed(GFP-)_1</th>\n",
              "      <th>Exposed(GFP-)_2</th>\n",
              "      <th>Exposed(GFP-)_3</th>\n",
              "      <th>Infected(GFP+)_1</th>\n",
              "      <th>Infected(GFP+)_2</th>\n",
              "      <th>Infected(GFP+)_3</th>\n",
              "      <th>Mock(dead_parasite)_1</th>\n",
              "      <th>Mock(dead_parasite)_2</th>\n",
              "      <th>Mock(dead_parasite)_3</th>\n",
              "      <th>Mock(media)_1</th>\n",
              "      <th>Mock(media)_2</th>\n",
              "      <th>Mock(media)_3</th>\n",
              "    </tr>\n",
              "    <tr>\n",
              "      <th>Gene stable ID</th>\n",
              "      <th></th>\n",
              "      <th></th>\n",
              "      <th></th>\n",
              "      <th></th>\n",
              "      <th></th>\n",
              "      <th></th>\n",
              "      <th></th>\n",
              "      <th></th>\n",
              "      <th></th>\n",
              "      <th></th>\n",
              "      <th></th>\n",
              "      <th></th>\n",
              "    </tr>\n",
              "  </thead>\n",
              "  <tbody>\n",
              "    <tr>\n",
              "      <th>ENSG00000227232</th>\n",
              "      <td>2.768467</td>\n",
              "      <td>2.575623</td>\n",
              "      <td>2.620411</td>\n",
              "      <td>2.527590</td>\n",
              "      <td>2.865971</td>\n",
              "      <td>2.716599</td>\n",
              "      <td>2.776644</td>\n",
              "      <td>2.811338</td>\n",
              "      <td>2.765334</td>\n",
              "      <td>3.054364</td>\n",
              "      <td>3.544210</td>\n",
              "      <td>2.544283</td>\n",
              "    </tr>\n",
              "    <tr>\n",
              "      <th>ENSG00000279928</th>\n",
              "      <td>1.660612</td>\n",
              "      <td>1.661260</td>\n",
              "      <td>1.666342</td>\n",
              "      <td>2.502871</td>\n",
              "      <td>1.658728</td>\n",
              "      <td>1.662138</td>\n",
              "      <td>1.659274</td>\n",
              "      <td>1.704438</td>\n",
              "      <td>1.661332</td>\n",
              "      <td>2.088157</td>\n",
              "      <td>2.186369</td>\n",
              "      <td>1.668785</td>\n",
              "    </tr>\n",
              "    <tr>\n",
              "      <th>ENSG00000228463</th>\n",
              "      <td>3.379811</td>\n",
              "      <td>2.863774</td>\n",
              "      <td>2.995897</td>\n",
              "      <td>5.382844</td>\n",
              "      <td>5.253617</td>\n",
              "      <td>5.411705</td>\n",
              "      <td>2.873013</td>\n",
              "      <td>2.853833</td>\n",
              "      <td>3.269599</td>\n",
              "      <td>2.941271</td>\n",
              "      <td>2.744617</td>\n",
              "      <td>3.219319</td>\n",
              "    </tr>\n",
              "    <tr>\n",
              "      <th>ENSG00000230021</th>\n",
              "      <td>2.597650</td>\n",
              "      <td>2.806744</td>\n",
              "      <td>2.319256</td>\n",
              "      <td>2.667900</td>\n",
              "      <td>2.403304</td>\n",
              "      <td>2.391807</td>\n",
              "      <td>2.476289</td>\n",
              "      <td>2.435475</td>\n",
              "      <td>2.474216</td>\n",
              "      <td>2.314637</td>\n",
              "      <td>2.314422</td>\n",
              "      <td>2.704454</td>\n",
              "    </tr>\n",
              "    <tr>\n",
              "      <th>ENSG00000225630</th>\n",
              "      <td>5.332156</td>\n",
              "      <td>5.282382</td>\n",
              "      <td>5.104911</td>\n",
              "      <td>5.272826</td>\n",
              "      <td>5.179453</td>\n",
              "      <td>5.617165</td>\n",
              "      <td>5.442349</td>\n",
              "      <td>5.243673</td>\n",
              "      <td>5.575443</td>\n",
              "      <td>5.835032</td>\n",
              "      <td>5.812722</td>\n",
              "      <td>5.354317</td>\n",
              "    </tr>\n",
              "  </tbody>\n",
              "</table>\n",
              "</div>"
            ],
            "text/plain": [
              "                 Exposed(GFP-)_1  Exposed(GFP-)_2  ...  Mock(media)_2  Mock(media)_3\n",
              "Gene stable ID                                     ...                              \n",
              "ENSG00000227232         2.768467         2.575623  ...       3.544210       2.544283\n",
              "ENSG00000279928         1.660612         1.661260  ...       2.186369       1.668785\n",
              "ENSG00000228463         3.379811         2.863774  ...       2.744617       3.219319\n",
              "ENSG00000230021         2.597650         2.806744  ...       2.314422       2.704454\n",
              "ENSG00000225630         5.332156         5.282382  ...       5.812722       5.354317\n",
              "\n",
              "[5 rows x 12 columns]"
            ]
          },
          "metadata": {
            "tags": []
          },
          "execution_count": 6
        }
      ]
    },
    {
      "cell_type": "code",
      "metadata": {
        "colab": {
          "base_uri": "https://localhost:8080/",
          "height": 507
        },
        "id": "OHU9vPEKID0P",
        "outputId": "fbd4e646-5a5d-4dfd-ac1b-af9e68569402"
      },
      "source": [
        "## add condition as multindex\n",
        "def make_column_list(column_list):\n",
        "  name_list = []\n",
        "  for column in column_list:\n",
        "    if \"Exposed\" in column:\n",
        "      name_list.append(\"Exposed(GFP-)\")\n",
        "    elif \"Inf\" in column:\n",
        "      name_list.append(\"Infected(GFP+)\")\n",
        "    elif \"dead\" in column:\n",
        "      name_list.append(\"Mock(dead_parasite)\")\n",
        "    else:\n",
        "      name_list.append(\"Mock(media)\")\n",
        "\n",
        "  return name_list\n",
        "def add_metadata(current_dict):\n",
        "  for key in current_dict:\n",
        "    name_list = make_column_list(current_dict[key].columns)\n",
        "    x = pd.MultiIndex.from_tuples(zip(current_dict[key].columns, name_list))\n",
        "    x.names = ['sample','condition']\n",
        "    current_dict[key].columns = x\n",
        "  return current_dict\n",
        "rlog_dict = add_metadata(rlog_dict)\n",
        "rlog_dict['ProE']\n"
      ],
      "execution_count": null,
      "outputs": [
        {
          "output_type": "execute_result",
          "data": {
            "text/html": [
              "<div>\n",
              "<style scoped>\n",
              "    .dataframe tbody tr th:only-of-type {\n",
              "        vertical-align: middle;\n",
              "    }\n",
              "\n",
              "    .dataframe tbody tr th {\n",
              "        vertical-align: top;\n",
              "    }\n",
              "\n",
              "    .dataframe thead tr th {\n",
              "        text-align: left;\n",
              "    }\n",
              "\n",
              "    .dataframe thead tr:last-of-type th {\n",
              "        text-align: right;\n",
              "    }\n",
              "</style>\n",
              "<table border=\"1\" class=\"dataframe\">\n",
              "  <thead>\n",
              "    <tr>\n",
              "      <th>sample</th>\n",
              "      <th>ProE_Exposed(GFP-)_1</th>\n",
              "      <th>ProE_Exposed(GFP-)_2</th>\n",
              "      <th>ProE_Exposed(GFP-)_3</th>\n",
              "      <th>ProE_Infected(GFP+)_1</th>\n",
              "      <th>ProE_Infected(GFP+)_2</th>\n",
              "      <th>ProE_Infected(GFP+)_3</th>\n",
              "      <th>ProE_Mock(dead_parasite)_1</th>\n",
              "      <th>ProE_Mock(dead_parasite)_2</th>\n",
              "      <th>ProE_Mock(dead_parasite)_3</th>\n",
              "      <th>ProE_Mock(media)_1</th>\n",
              "      <th>ProE_Mock(media)_2</th>\n",
              "      <th>ProE_Mock(media)_3</th>\n",
              "    </tr>\n",
              "    <tr>\n",
              "      <th>condition</th>\n",
              "      <th>Exposed(GFP-)</th>\n",
              "      <th>Exposed(GFP-)</th>\n",
              "      <th>Exposed(GFP-)</th>\n",
              "      <th>Infected(GFP+)</th>\n",
              "      <th>Infected(GFP+)</th>\n",
              "      <th>Infected(GFP+)</th>\n",
              "      <th>Mock(dead_parasite)</th>\n",
              "      <th>Mock(dead_parasite)</th>\n",
              "      <th>Mock(dead_parasite)</th>\n",
              "      <th>Mock(media)</th>\n",
              "      <th>Mock(media)</th>\n",
              "      <th>Mock(media)</th>\n",
              "    </tr>\n",
              "    <tr>\n",
              "      <th>Gene stable ID</th>\n",
              "      <th></th>\n",
              "      <th></th>\n",
              "      <th></th>\n",
              "      <th></th>\n",
              "      <th></th>\n",
              "      <th></th>\n",
              "      <th></th>\n",
              "      <th></th>\n",
              "      <th></th>\n",
              "      <th></th>\n",
              "      <th></th>\n",
              "      <th></th>\n",
              "    </tr>\n",
              "  </thead>\n",
              "  <tbody>\n",
              "    <tr>\n",
              "      <th>ENSG00000227232</th>\n",
              "      <td>3.624820</td>\n",
              "      <td>3.660606</td>\n",
              "      <td>3.694792</td>\n",
              "      <td>3.850802</td>\n",
              "      <td>3.842759</td>\n",
              "      <td>3.753368</td>\n",
              "      <td>3.763763</td>\n",
              "      <td>3.719964</td>\n",
              "      <td>3.714698</td>\n",
              "      <td>3.659498</td>\n",
              "      <td>3.653739</td>\n",
              "      <td>3.625681</td>\n",
              "    </tr>\n",
              "    <tr>\n",
              "      <th>ENSG00000241860</th>\n",
              "      <td>3.800414</td>\n",
              "      <td>3.906198</td>\n",
              "      <td>3.958129</td>\n",
              "      <td>3.798015</td>\n",
              "      <td>4.063339</td>\n",
              "      <td>4.101613</td>\n",
              "      <td>3.783755</td>\n",
              "      <td>3.919979</td>\n",
              "      <td>3.842273</td>\n",
              "      <td>3.884846</td>\n",
              "      <td>3.923417</td>\n",
              "      <td>3.935875</td>\n",
              "    </tr>\n",
              "    <tr>\n",
              "      <th>ENSG00000279457</th>\n",
              "      <td>4.148689</td>\n",
              "      <td>4.025242</td>\n",
              "      <td>4.048132</td>\n",
              "      <td>3.957790</td>\n",
              "      <td>4.084475</td>\n",
              "      <td>4.128505</td>\n",
              "      <td>3.913389</td>\n",
              "      <td>4.032206</td>\n",
              "      <td>4.023848</td>\n",
              "      <td>3.913478</td>\n",
              "      <td>3.967620</td>\n",
              "      <td>4.035557</td>\n",
              "    </tr>\n",
              "    <tr>\n",
              "      <th>ENSG00000228463</th>\n",
              "      <td>5.981825</td>\n",
              "      <td>6.110365</td>\n",
              "      <td>6.304953</td>\n",
              "      <td>6.260455</td>\n",
              "      <td>6.312861</td>\n",
              "      <td>7.123426</td>\n",
              "      <td>6.279493</td>\n",
              "      <td>6.119247</td>\n",
              "      <td>6.182068</td>\n",
              "      <td>6.251432</td>\n",
              "      <td>6.160947</td>\n",
              "      <td>6.156736</td>\n",
              "    </tr>\n",
              "    <tr>\n",
              "      <th>ENSG00000237094</th>\n",
              "      <td>4.720884</td>\n",
              "      <td>4.787690</td>\n",
              "      <td>4.784860</td>\n",
              "      <td>4.780429</td>\n",
              "      <td>5.107521</td>\n",
              "      <td>4.930215</td>\n",
              "      <td>4.606760</td>\n",
              "      <td>4.726501</td>\n",
              "      <td>4.766743</td>\n",
              "      <td>4.784914</td>\n",
              "      <td>4.645069</td>\n",
              "      <td>4.800581</td>\n",
              "    </tr>\n",
              "    <tr>\n",
              "      <th>...</th>\n",
              "      <td>...</td>\n",
              "      <td>...</td>\n",
              "      <td>...</td>\n",
              "      <td>...</td>\n",
              "      <td>...</td>\n",
              "      <td>...</td>\n",
              "      <td>...</td>\n",
              "      <td>...</td>\n",
              "      <td>...</td>\n",
              "      <td>...</td>\n",
              "      <td>...</td>\n",
              "      <td>...</td>\n",
              "    </tr>\n",
              "    <tr>\n",
              "      <th>ENSG00000210196</th>\n",
              "      <td>8.666612</td>\n",
              "      <td>8.401704</td>\n",
              "      <td>8.908101</td>\n",
              "      <td>8.667923</td>\n",
              "      <td>8.868034</td>\n",
              "      <td>9.111022</td>\n",
              "      <td>8.055910</td>\n",
              "      <td>8.402373</td>\n",
              "      <td>8.567036</td>\n",
              "      <td>8.108021</td>\n",
              "      <td>8.367900</td>\n",
              "      <td>8.521927</td>\n",
              "    </tr>\n",
              "    <tr>\n",
              "      <th>ENSG00000278673</th>\n",
              "      <td>3.802388</td>\n",
              "      <td>3.743346</td>\n",
              "      <td>3.936447</td>\n",
              "      <td>3.985400</td>\n",
              "      <td>4.020677</td>\n",
              "      <td>3.888343</td>\n",
              "      <td>3.761001</td>\n",
              "      <td>3.817377</td>\n",
              "      <td>3.813852</td>\n",
              "      <td>3.865558</td>\n",
              "      <td>3.944054</td>\n",
              "      <td>3.809661</td>\n",
              "    </tr>\n",
              "    <tr>\n",
              "      <th>ENSG00000276256</th>\n",
              "      <td>5.854245</td>\n",
              "      <td>5.595989</td>\n",
              "      <td>5.963676</td>\n",
              "      <td>5.465492</td>\n",
              "      <td>5.625135</td>\n",
              "      <td>5.976172</td>\n",
              "      <td>5.794469</td>\n",
              "      <td>5.707871</td>\n",
              "      <td>5.744664</td>\n",
              "      <td>5.680076</td>\n",
              "      <td>5.989542</td>\n",
              "      <td>5.870134</td>\n",
              "    </tr>\n",
              "    <tr>\n",
              "      <th>ENSG00000276345</th>\n",
              "      <td>4.633101</td>\n",
              "      <td>4.683410</td>\n",
              "      <td>4.653985</td>\n",
              "      <td>4.482346</td>\n",
              "      <td>4.658160</td>\n",
              "      <td>4.903175</td>\n",
              "      <td>4.682574</td>\n",
              "      <td>4.733309</td>\n",
              "      <td>4.655002</td>\n",
              "      <td>4.610027</td>\n",
              "      <td>4.649923</td>\n",
              "      <td>4.565350</td>\n",
              "    </tr>\n",
              "    <tr>\n",
              "      <th>ENSG00000271254</th>\n",
              "      <td>5.817737</td>\n",
              "      <td>5.968608</td>\n",
              "      <td>5.701872</td>\n",
              "      <td>5.728058</td>\n",
              "      <td>5.800838</td>\n",
              "      <td>5.857059</td>\n",
              "      <td>5.743201</td>\n",
              "      <td>5.808387</td>\n",
              "      <td>5.700149</td>\n",
              "      <td>5.753964</td>\n",
              "      <td>5.738328</td>\n",
              "      <td>5.664037</td>\n",
              "    </tr>\n",
              "  </tbody>\n",
              "</table>\n",
              "<p>18124 rows × 12 columns</p>\n",
              "</div>"
            ],
            "text/plain": [
              "sample          ProE_Exposed(GFP-)_1  ... ProE_Mock(media)_3\n",
              "condition              Exposed(GFP-)  ...        Mock(media)\n",
              "Gene stable ID                        ...                   \n",
              "ENSG00000227232             3.624820  ...           3.625681\n",
              "ENSG00000241860             3.800414  ...           3.935875\n",
              "ENSG00000279457             4.148689  ...           4.035557\n",
              "ENSG00000228463             5.981825  ...           6.156736\n",
              "ENSG00000237094             4.720884  ...           4.800581\n",
              "...                              ...  ...                ...\n",
              "ENSG00000210196             8.666612  ...           8.521927\n",
              "ENSG00000278673             3.802388  ...           3.809661\n",
              "ENSG00000276256             5.854245  ...           5.870134\n",
              "ENSG00000276345             4.633101  ...           4.565350\n",
              "ENSG00000271254             5.817737  ...           5.664037\n",
              "\n",
              "[18124 rows x 12 columns]"
            ]
          },
          "metadata": {
            "tags": []
          },
          "execution_count": 7
        }
      ]
    },
    {
      "cell_type": "markdown",
      "metadata": {
        "id": "rLSIj0qwpcJa"
      },
      "source": [
        "## Attach annotations\n",
        "This section is for attaching gene information to a dataframe where rows are genes and the index column is an Ensembl gene id"
      ]
    },
    {
      "cell_type": "code",
      "metadata": {
        "id": "hVZch40cqnSr"
      },
      "source": [
        "## function to attach dataframe of gene annotations to each dataframe in a \n",
        "## dictionary of dataframes where the index column of both is labeled \"Gene stable ID\"\n",
        "def attach_annotations(current_dict,annotation_df):\n",
        "  for key in current_dict:\n",
        "    print(key + \" dimensions before: \" + str(current_dict[key].shape))\n",
        "    current_dict[key] = (pd.merge(left = current_dict[key], right = annotation_df, how = 'left', \n",
        "          on='Gene stable ID', sort=False, validate = \"1:1\"))\n",
        "    print(key + \" dimensions after: \" + str(current_dict[key].shape))\n",
        "  return current_dict"
      ],
      "execution_count": null,
      "outputs": []
    },
    {
      "cell_type": "code",
      "metadata": {
        "colab": {
          "base_uri": "https://localhost:8080/"
        },
        "id": "rDNM1RcaxiNH",
        "outputId": "8b48fa86-9133-44fd-9948-8c3e7767b845"
      },
      "source": [
        "## Attach annotations to DEG dataframes and rlog dataframes\n",
        "DEG_annotation_dict = DEG_dict.copy()\n",
        "DEG_annotation_dict = attach_annotations(DEG_annotation_dict,df_annotations)\n",
        "\n",
        "## make a copy to attach annotations so that column don't clash later\n",
        "rlog_annotation_dict = rlog_dict.copy()\n",
        "rlog_annotation_dict = attach_annotations(rlog_annotation_dict,df_annotations)"
      ],
      "execution_count": null,
      "outputs": [
        {
          "output_type": "stream",
          "text": [
            "ProE dimensions before: (18124, 7)\n",
            "ProE dimensions after: (18124, 10)\n",
            "BasE dimensions before: (17500, 7)\n",
            "BasE dimensions after: (17500, 10)\n",
            "PolyE dimensions before: (16154, 7)\n",
            "PolyE dimensions after: (16154, 10)\n",
            "OrthoE dimensions before: (12141, 7)\n",
            "OrthoE dimensions after: (12141, 10)\n",
            "ProE dimensions before: (18124, 12)\n",
            "ProE dimensions after: (18124, 15)\n",
            "BasE dimensions before: (17500, 12)\n"
          ],
          "name": "stdout"
        },
        {
          "output_type": "stream",
          "text": [
            "/usr/local/lib/python3.7/dist-packages/pandas/core/reshape/merge.py:643: UserWarning: merging between different levels can give an unintended result (2 levels on the left,1 on the right)\n",
            "  warnings.warn(msg, UserWarning)\n"
          ],
          "name": "stderr"
        },
        {
          "output_type": "stream",
          "text": [
            "BasE dimensions after: (17500, 15)\n",
            "PolyE dimensions before: (16154, 12)\n",
            "PolyE dimensions after: (16154, 15)\n",
            "OrthoE dimensions before: (12141, 12)\n",
            "OrthoE dimensions after: (12141, 15)\n"
          ],
          "name": "stdout"
        }
      ]
    },
    {
      "cell_type": "markdown",
      "metadata": {
        "id": "Z1R9SC5f37VU"
      },
      "source": [
        "## Filter DEG for significant genes\n",
        "This section filters the DEG dataframes by their adjusted p-value and produces rlog dataframe of counts for significant genes"
      ]
    },
    {
      "cell_type": "code",
      "metadata": {
        "colab": {
          "base_uri": "https://localhost:8080/"
        },
        "id": "vZFkxiVH4a4r",
        "outputId": "eebbb67c-ce56-481a-c98d-1dbf1701e1d8"
      },
      "source": [
        "## filter by padj and store in new dictionary\n",
        "padj = 0.01\n",
        "DEG_sig_dict = {}\n",
        "for key in DEG_dict:\n",
        "  print(key + \" dimensions before: \" + str(DEG_dict[key].shape))\n",
        "  # filter each dataframe by padj =< padj value set above. Sort the dataframe by padj\n",
        "  DEG_sig_dict[key] = (DEG_dict[key][DEG_dict[key]['padj'] <= padj].\n",
        "                       sort_values(by=['padj']))\n",
        "  print(key + \" dimensions after: \" + str(DEG_sig_dict[key].shape))\n",
        "DEG_sig_annotation = DEG_sig_dict.copy()\n",
        "DEG_sig_annotation = attach_annotations(DEG_sig_annotation,df_annotations)"
      ],
      "execution_count": null,
      "outputs": [
        {
          "output_type": "stream",
          "text": [
            "ProE dimensions before: (1083, 7)\n",
            "ProE dimensions after: (1083, 10)\n",
            "BasE dimensions before: (628, 7)\n",
            "BasE dimensions after: (628, 10)\n",
            "PolyE dimensions before: (1794, 7)\n",
            "PolyE dimensions after: (1794, 10)\n",
            "OrthoE dimensions before: (1585, 7)\n",
            "OrthoE dimensions after: (1585, 10)\n"
          ],
          "name": "stdout"
        }
      ]
    },
    {
      "cell_type": "code",
      "metadata": {
        "id": "mM_-OjRssoWU"
      },
      "source": [
        "## This section is used to filter significant genes by whether they are up or down\n",
        "DEG_updown = {}\n",
        "for key in DEG_sig_annotation:\n",
        "  # store up and down dataframes as list [up,down]\n",
        "  DEG_updown[key] = ([DEG_sig_annotation[key][DEG_sig_annotation[key]['log2FoldChange'] > 0], \n",
        "                      DEG_sig_annotation[key][DEG_sig_annotation[key]['log2FoldChange'] < 0]])\n"
      ],
      "execution_count": null,
      "outputs": []
    },
    {
      "cell_type": "code",
      "metadata": {
        "colab": {
          "base_uri": "https://localhost:8080/"
        },
        "id": "2-eL1U0R9hfc",
        "outputId": "0003410a-f7bf-454f-f93e-6d74acf76724"
      },
      "source": [
        "## filter rlog counts by DEG genes and store in new dictionary\n",
        "rlog_sig_dict = {}\n",
        "for key in rlog_dict:\n",
        "  print(key + \" dimensions before: \" + str(rlog_dict[key].shape))\n",
        "  idx = rlog_dict[key].index\n",
        "  # make boolean array of whether rlog index in DEG index and use to filter rlog\n",
        "  rlog_sig_dict[key] = rlog_dict[key][idx.isin(DEG_sig_dict[key].index)]\n",
        "  print(key + \" dimensions after: \" + str(rlog_sig_dict[key].shape))"
      ],
      "execution_count": null,
      "outputs": [
        {
          "output_type": "stream",
          "text": [
            "ProE dimensions before: (18124, 12)\n",
            "ProE dimensions after: (1083, 12)\n",
            "BasE dimensions before: (17500, 12)\n",
            "BasE dimensions after: (628, 12)\n",
            "PolyE dimensions before: (16154, 12)\n",
            "PolyE dimensions after: (1794, 12)\n",
            "OrthoE dimensions before: (12141, 12)\n",
            "OrthoE dimensions after: (1585, 12)\n"
          ],
          "name": "stdout"
        }
      ]
    },
    {
      "cell_type": "markdown",
      "metadata": {
        "id": "tkYmkOSyjir8"
      },
      "source": [
        "## Produce clustered heatmaps of DEGs"
      ]
    },
    {
      "cell_type": "code",
      "metadata": {
        "id": "a7NUzRLMsilu"
      },
      "source": [
        "## Function to create clustered heatmaps with desired conditions\n",
        "\n",
        "## Filter dataframe of counts according to desired conditions\n",
        "def make_dataframe(current_dict,condition_list,key):\n",
        "  selected_df = current_dict[key].loc[:,(slice(None), condition_list)]\n",
        "  return selected_df\n",
        "## Make the linkages (clustering) for rows and columns\n",
        "def custom_dendrogram(current_df):\n",
        "  dend_col = hc.linkage(current_df.T.values, method=\"ward\",optimal_ordering=True)\n",
        "  dend_row = hc.linkage(current_df.values,method='ward',optimal_ordering=True)\n",
        "  return [dend_row,dend_col]\n",
        "## Make the annotation colors and set up legend\n",
        "def make_colors(selected_df,condition_list,color_list):\n",
        "  color_zip = zip(condition_list, color_list)\n",
        "  current_legend = [mpatches.Patch(color=c, label=l) for l,c in color_zip]\n",
        "  color_dict = dict(zip(condition_list, color_list))\n",
        "  col_colors = selected_df.columns.get_level_values('condition').map(color_dict)\n",
        "  return [col_colors,current_legend]\n",
        "## Make the clustermap for the current dataframe\n",
        "def plot_clustermap(selected_df,dend_list,fsize,cmap_options,color_legend,key):\n",
        "  plt.figure(figsize=fsize)\n",
        "  current_colormap = sns.color_palette(cmap_options[0], n_colors=cmap_options[1], as_cmap=True)\n",
        "  g = (sns.clustermap(selected_df, z_score=0, robust=True,\n",
        "                      yticklabels=False,xticklabels=False, \n",
        "                      row_linkage = dend_list[0], col_linkage=dend_list[1], \n",
        "                      cmap = current_colormap, cbar_pos=(0.99, .63, .18, .03), \n",
        "                      col_colors=color_legend[0], cbar_kws={\"orientation\":\"horizontal\"},\n",
        "                      dendrogram_ratio = (0.1,0.1)))\n",
        "  l2=g.ax_heatmap.legend(loc='center left',bbox_to_anchor=(1.01,0.85),\n",
        "                          handles=color_legend[1],frameon=True)\n",
        "  l2.set_title(title='Condition',prop={'size':10})\n",
        "  g.ax_heatmap.invert_yaxis()\n",
        "  g.ax_row_dendrogram.invert_yaxis()\n",
        "  g.ax_col_dendrogram.set_title(key+\" Infected/Exposed\",fontdict={'fontsize':\"42\"})\n",
        "  current_filepath = ('/content/drive/Shareddrives/Egan Lab/Tamar/20210607_RNASeq_Analysis/'+\n",
        "               key + \"/\" + key + '_ClustermapIEOptimal.svg')\n",
        "  plt.savefig(current_filepath, bbox_inches='tight',format=\"svg\")\n",
        "  plt.show()\n",
        "  plt.close()\n",
        "  print(current_filepath)\n",
        "## Make clustermaps for a dictionary of dataframes with cell type as key and save\n",
        "def clustermap_from_dict(current_dict,condition_list,color_list,fsize,cmap_options):\n",
        "  for key in current_dict:\n",
        "    selected_df = make_dataframe(current_dict,condition_list,key)\n",
        "    dend_list = custom_dendrogram(selected_df)\n",
        "    color_legend = make_colors(selected_df,condition_list,color_list)\n",
        "    plot_clustermap(selected_df, dend_list, fsize, cmap_options,color_legend,key)\n",
        "    print(\"Done with: \"+key)\n"
      ],
      "execution_count": null,
      "outputs": []
    },
    {
      "cell_type": "code",
      "metadata": {
        "id": "Je_WXKY6u_Jh"
      },
      "source": [
        "## Call function for heatmap creation for all cell types\n",
        "clustermap_from_dict(rlog_sig_dict,['Infected(GFP+)','Exposed(GFP-)'],['g','m'],(15,15),['coolwarm',80])"
      ],
      "execution_count": null,
      "outputs": []
    },
    {
      "cell_type": "code",
      "metadata": {
        "id": "o16wLHEWy2KA"
      },
      "source": [
        ""
      ],
      "execution_count": null,
      "outputs": []
    },
    {
      "cell_type": "markdown",
      "metadata": {
        "id": "RduAtc0vkvqi"
      },
      "source": [
        "# Test Code\n",
        "This is a block of code to test clustermap formatting"
      ]
    },
    {
      "cell_type": "code",
      "metadata": {
        "id": "0V6BDXmij9Kg"
      },
      "source": [
        "color_list = zip([\"Mock(media)\",\"Mock(dead_parasite)\",\"Exposed(GFP-)\",\"Infected(GFP+)\"], ['dimgray','c','m','g'])\n",
        "lut1 = dict(zip([\"Mock(media)\",\"Mock(dead_parasite)\",\"Exposed(GFP-)\",\"Infected(GFP+)\"], ['dimgray','c','m','g']))\n",
        "col_colors = rlog_sig_dict[\"PolyE\"].columns.get_level_values('condition').map(lut1)\n",
        "col_colors\n",
        "legend_TN = [mpatches.Patch(color=c, label=l) for l,c in color_list]\n",
        "plt.figure(figsize=(15,15))\n",
        "#sns.set_context(font_scale=1.75)\n",
        "current_colormap = sns.color_palette('coolwarm', n_colors=80, as_cmap=True)\n",
        "g = (sns.clustermap(rlog_sig_dict['PolyE'],cmap = current_colormap, z_score=0,\n",
        "                  robust=True,yticklabels=False,xticklabels=False, col_linkage=Z, \n",
        "                  cbar_pos=(0.99, .63, .18, .03), col_colors=col_colors, \n",
        "                  dendrogram_ratio = (0.1,0.1),cbar_kws={\"orientation\":\"horizontal\"},row_linkage=None))\n",
        "l2=g.ax_heatmap.legend(loc='center left',bbox_to_anchor=(1.01,0.85),handles=legend_TN,frameon=True)\n",
        "l2.set_title(title='Condition',prop={'size':10})\n",
        "g.ax_heatmap.invert_yaxis()\n",
        "g.ax_row_dendrogram.invert_yaxis()\n",
        "g.ax_col_dendrogram.set_title(\"PolyE\",fontdict={'fontsize':\"36\"}) \n",
        "plt.savefig('/content/drive/Shareddrives/Egan Lab/Tamar/20210607_RNASeq_Analysis/test_figure2.svg', bbox_inches='tight',format=\"svg\")"
      ],
      "execution_count": null,
      "outputs": []
    },
    {
      "cell_type": "code",
      "metadata": {
        "colab": {
          "base_uri": "https://localhost:8080/"
        },
        "id": "93J4tEAqYI88",
        "outputId": "4f6116d2-b812-451d-b14d-364e587474f2"
      },
      "source": [
        "DEG_updown['PolyE'][]"
      ],
      "execution_count": null,
      "outputs": [
        {
          "output_type": "execute_result",
          "data": {
            "text/plain": [
              "(0.6823529411764706, 0.7803921568627451, 0.9098039215686274, 1.0)"
            ]
          },
          "metadata": {
            "tags": []
          },
          "execution_count": 274
        }
      ]
    },
    {
      "cell_type": "markdown",
      "metadata": {
        "id": "FYNDyqwslGKG"
      },
      "source": [
        "# List all DEGs across cell type"
      ]
    },
    {
      "cell_type": "code",
      "metadata": {
        "colab": {
          "base_uri": "https://localhost:8080/",
          "height": 161
        },
        "id": "Qxek5IwhlNko",
        "outputId": "96f6862a-32d2-4a06-c4c5-316a56464a26"
      },
      "source": [
        "\n",
        "combined_idx = pd.Index([])\n",
        "for key in rlog_sig_dict:\n",
        "  combined_idx = combined_idx.union(rlog_sig_dict[key].index)\n",
        "combined_df = pd.DataFrame(index=combined_idx)\n",
        "for key in rlog_sig_dict:\n",
        "  combined_df[key] = [x in rlog_sig_dict[key].index for x in combined_idx ]\n",
        "combined_df = combined_df.astype(int)\n",
        "combined_df = combined_df.sort_values(by = celltype_list,ascending=False)\n",
        "plt.figure(figsize=(10,2))\n",
        "ax = sns.heatmap(combined_df,yticklabels=False)\n"
      ],
      "execution_count": null,
      "outputs": [
        {
          "output_type": "display_data",
          "data": {
            "image/png": "[encoded data removed]",
            "text/plain": [
              "<Figure size 720x144 with 2 Axes>"
            ]
          },
          "metadata": {
            "tags": [],
            "needs_background": "light"
          }
        }
      ]
    },
    {
      "cell_type": "markdown",
      "metadata": {
        "id": "3c7Fgtb6XtJd"
      },
      "source": [
        "## GSEA analysis for list of DEGs"
      ]
    },
    {
      "cell_type": "code",
      "metadata": {
        "colab": {
          "base_uri": "https://localhost:8080/"
        },
        "id": "cphh-o7fYTVh",
        "outputId": "6b7bda78-6590-4660-fb1c-7bb07ea85adb"
      },
      "source": [
        "rlog_sig_annotated = rlog_sig_dict.copy()\n",
        "rlog_sig_annotated = attach_annotations(rlog_sig_annotated,df_annotations)\n",
        "glist = DEG_updown['PolyE'][1]['Gene name'].tolist()\n",
        "names = gp.get_library_name()\n",
        "gene_sets=['KEGG_2016','KEGG_2013']\n",
        "glist = [x for x in glist if str(x) != 'nan']"
      ],
      "execution_count": null,
      "outputs": [
        {
          "output_type": "stream",
          "text": [
            "ProE dimensions before: (1083, 12)\n",
            "ProE dimensions after: (1083, 15)\n",
            "BasE dimensions before: (628, 12)\n"
          ],
          "name": "stdout"
        },
        {
          "output_type": "stream",
          "text": [
            "/usr/local/lib/python3.7/dist-packages/pandas/core/reshape/merge.py:643: UserWarning: merging between different levels can give an unintended result (2 levels on the left,1 on the right)\n",
            "  warnings.warn(msg, UserWarning)\n"
          ],
          "name": "stderr"
        },
        {
          "output_type": "stream",
          "text": [
            "BasE dimensions after: (628, 15)\n",
            "PolyE dimensions before: (1794, 12)\n",
            "PolyE dimensions after: (1794, 15)\n",
            "OrthoE dimensions before: (1585, 12)\n",
            "OrthoE dimensions after: (1585, 15)\n"
          ],
          "name": "stdout"
        }
      ]
    },
    {
      "cell_type": "code",
      "metadata": {
        "id": "OKN5wzBVayWj"
      },
      "source": [
        "enr = gp.enrichr(gene_list=glist,gene_sets=['GO_Biological_Process_2018'],organism='Human',description='test_name', outdir='test/enrichr_kegg',cutoff=0.1)"
      ],
      "execution_count": null,
      "outputs": []
    },
    {
      "cell_type": "code",
      "metadata": {
        "colab": {
          "base_uri": "https://localhost:8080/",
          "height": 965
        },
        "id": "cKgvqPb3cKyO",
        "outputId": "2ad8c949-6f49-4deb-d7af-46b2616c8b21"
      },
      "source": [
        "from gseapy.plot import barplot, dotplot\n",
        "barplot(enr.results, cutoff=0.1, top_term=25)\n",
        "enr.results[enr.results['Adjusted P-value'] < 0.1].tail(n=100)"
      ],
      "execution_count": null,
      "outputs": [
        {
          "output_type": "execute_result",
          "data": {
            "text/html": [
              "<div>\n",
              "<style scoped>\n",
              "    .dataframe tbody tr th:only-of-type {\n",
              "        vertical-align: middle;\n",
              "    }\n",
              "\n",
              "    .dataframe tbody tr th {\n",
              "        vertical-align: top;\n",
              "    }\n",
              "\n",
              "    .dataframe thead th {\n",
              "        text-align: right;\n",
              "    }\n",
              "</style>\n",
              "<table border=\"1\" class=\"dataframe\">\n",
              "  <thead>\n",
              "    <tr style=\"text-align: right;\">\n",
              "      <th></th>\n",
              "      <th>Gene_set</th>\n",
              "      <th>Term</th>\n",
              "      <th>Overlap</th>\n",
              "      <th>P-value</th>\n",
              "      <th>Adjusted P-value</th>\n",
              "      <th>Old P-value</th>\n",
              "      <th>Old Adjusted P-value</th>\n",
              "      <th>Odds Ratio</th>\n",
              "      <th>Combined Score</th>\n",
              "      <th>Genes</th>\n",
              "    </tr>\n",
              "  </thead>\n",
              "  <tbody>\n",
              "    <tr>\n",
              "      <th>98</th>\n",
              "      <td>GO_Biological_Process_2018</td>\n",
              "      <td>negative regulation of histone acetylation (GO...</td>\n",
              "      <td>4/11</td>\n",
              "      <td>0.000942</td>\n",
              "      <td>0.026548</td>\n",
              "      <td>0</td>\n",
              "      <td>0</td>\n",
              "      <td>12.527523</td>\n",
              "      <td>87.284517</td>\n",
              "      <td>CTBP1;SIN3A;BRCA1;SNCA</td>\n",
              "    </tr>\n",
              "    <tr>\n",
              "      <th>99</th>\n",
              "      <td>GO_Biological_Process_2018</td>\n",
              "      <td>methionine metabolic process (GO:0006555)</td>\n",
              "      <td>4/11</td>\n",
              "      <td>0.000942</td>\n",
              "      <td>0.026548</td>\n",
              "      <td>0</td>\n",
              "      <td>0</td>\n",
              "      <td>12.527523</td>\n",
              "      <td>87.284517</td>\n",
              "      <td>AHCYL1;MTHFD1;SMS;MTR</td>\n",
              "    </tr>\n",
              "    <tr>\n",
              "      <th>100</th>\n",
              "      <td>GO_Biological_Process_2018</td>\n",
              "      <td>regulation of carbohydrate catabolic process (...</td>\n",
              "      <td>7/37</td>\n",
              "      <td>0.000983</td>\n",
              "      <td>0.027421</td>\n",
              "      <td>0</td>\n",
              "      <td>0</td>\n",
              "      <td>5.126889</td>\n",
              "      <td>35.504233</td>\n",
              "      <td>NDC1;NUP93;NUP205;NUP188;NUP210;NUP50;TPR</td>\n",
              "    </tr>\n",
              "    <tr>\n",
              "      <th>101</th>\n",
              "      <td>GO_Biological_Process_2018</td>\n",
              "      <td>nucleosome disassembly (GO:0006337)</td>\n",
              "      <td>5/19</td>\n",
              "      <td>0.001109</td>\n",
              "      <td>0.030338</td>\n",
              "      <td>0</td>\n",
              "      <td>0</td>\n",
              "      <td>7.835821</td>\n",
              "      <td>53.318077</td>\n",
              "      <td>NFE2;SMARCC1;SMARCD2;SMARCC2;SMARCA4</td>\n",
              "    </tr>\n",
              "    <tr>\n",
              "      <th>102</th>\n",
              "      <td>GO_Biological_Process_2018</td>\n",
              "      <td>chromatin disassembly (GO:0031498)</td>\n",
              "      <td>5/19</td>\n",
              "      <td>0.001109</td>\n",
              "      <td>0.030338</td>\n",
              "      <td>0</td>\n",
              "      <td>0</td>\n",
              "      <td>7.835821</td>\n",
              "      <td>53.318077</td>\n",
              "      <td>NFE2;SMARCC1;SMARCD2;SMARCC2;SMARCA4</td>\n",
              "    </tr>\n",
              "    <tr>\n",
              "      <th>...</th>\n",
              "      <td>...</td>\n",
              "      <td>...</td>\n",
              "      <td>...</td>\n",
              "      <td>...</td>\n",
              "      <td>...</td>\n",
              "      <td>...</td>\n",
              "      <td>...</td>\n",
              "      <td>...</td>\n",
              "      <td>...</td>\n",
              "      <td>...</td>\n",
              "    </tr>\n",
              "    <tr>\n",
              "      <th>193</th>\n",
              "      <td>GO_Biological_Process_2018</td>\n",
              "      <td>mitotic DNA damage checkpoint (GO:0044773)</td>\n",
              "      <td>6/39</td>\n",
              "      <td>0.006575</td>\n",
              "      <td>0.095504</td>\n",
              "      <td>0</td>\n",
              "      <td>0</td>\n",
              "      <td>3.989760</td>\n",
              "      <td>20.046605</td>\n",
              "      <td>FANCI;BLM;MSH2;CDK2;CLSPN;FOXN3</td>\n",
              "    </tr>\n",
              "    <tr>\n",
              "      <th>194</th>\n",
              "      <td>GO_Biological_Process_2018</td>\n",
              "      <td>negative regulation of proteasomal protein cat...</td>\n",
              "      <td>5/28</td>\n",
              "      <td>0.006765</td>\n",
              "      <td>0.097761</td>\n",
              "      <td>0</td>\n",
              "      <td>0</td>\n",
              "      <td>4.767384</td>\n",
              "      <td>23.817913</td>\n",
              "      <td>ALAD;BAG6;USP7;RPL11;PSMF1</td>\n",
              "    </tr>\n",
              "    <tr>\n",
              "      <th>195</th>\n",
              "      <td>GO_Biological_Process_2018</td>\n",
              "      <td>regulation of microtubule polymerization or de...</td>\n",
              "      <td>4/18</td>\n",
              "      <td>0.006839</td>\n",
              "      <td>0.097835</td>\n",
              "      <td>0</td>\n",
              "      <td>0</td>\n",
              "      <td>6.261468</td>\n",
              "      <td>31.213757</td>\n",
              "      <td>SKA3;SKA1;CLASP1;CLASP2</td>\n",
              "    </tr>\n",
              "    <tr>\n",
              "      <th>196</th>\n",
              "      <td>GO_Biological_Process_2018</td>\n",
              "      <td>DNA ligation (GO:0006266)</td>\n",
              "      <td>4/18</td>\n",
              "      <td>0.006839</td>\n",
              "      <td>0.097835</td>\n",
              "      <td>0</td>\n",
              "      <td>0</td>\n",
              "      <td>6.261468</td>\n",
              "      <td>31.213757</td>\n",
              "      <td>POLD3;LIG1;PARP2;HMGB2</td>\n",
              "    </tr>\n",
              "    <tr>\n",
              "      <th>197</th>\n",
              "      <td>GO_Biological_Process_2018</td>\n",
              "      <td>nuclear export (GO:0051168)</td>\n",
              "      <td>10/92</td>\n",
              "      <td>0.006943</td>\n",
              "      <td>0.098817</td>\n",
              "      <td>0</td>\n",
              "      <td>0</td>\n",
              "      <td>2.681519</td>\n",
              "      <td>13.327151</td>\n",
              "      <td>RANBP1;ANKLE1;NUP188;STRADB;TPR;XPO7;NUTF2;CAS...</td>\n",
              "    </tr>\n",
              "  </tbody>\n",
              "</table>\n",
              "<p>100 rows × 10 columns</p>\n",
              "</div>"
            ],
            "text/plain": [
              "                       Gene_set  ...                                              Genes\n",
              "98   GO_Biological_Process_2018  ...                             CTBP1;SIN3A;BRCA1;SNCA\n",
              "99   GO_Biological_Process_2018  ...                              AHCYL1;MTHFD1;SMS;MTR\n",
              "100  GO_Biological_Process_2018  ...          NDC1;NUP93;NUP205;NUP188;NUP210;NUP50;TPR\n",
              "101  GO_Biological_Process_2018  ...               NFE2;SMARCC1;SMARCD2;SMARCC2;SMARCA4\n",
              "102  GO_Biological_Process_2018  ...               NFE2;SMARCC1;SMARCD2;SMARCC2;SMARCA4\n",
              "..                          ...  ...                                                ...\n",
              "193  GO_Biological_Process_2018  ...                    FANCI;BLM;MSH2;CDK2;CLSPN;FOXN3\n",
              "194  GO_Biological_Process_2018  ...                         ALAD;BAG6;USP7;RPL11;PSMF1\n",
              "195  GO_Biological_Process_2018  ...                            SKA3;SKA1;CLASP1;CLASP2\n",
              "196  GO_Biological_Process_2018  ...                             POLD3;LIG1;PARP2;HMGB2\n",
              "197  GO_Biological_Process_2018  ...  RANBP1;ANKLE1;NUP188;STRADB;TPR;XPO7;NUTF2;CAS...\n",
              "\n",
              "[100 rows x 10 columns]"
            ]
          },
          "metadata": {
            "tags": []
          },
          "execution_count": 113
        },
        {
          "output_type": "display_data",
          "data": {
            "image/png": "[encoded data removed]",
            "text/plain": [
              "<Figure size 468x432 with 1 Axes>"
            ]
          },
          "metadata": {
            "tags": [],
            "needs_background": "light"
          }
        }
      ]
    }
  ]
}